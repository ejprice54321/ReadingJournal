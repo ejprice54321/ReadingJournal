{
 "cells": [
  {
   "cell_type": "markdown",
   "metadata": {},
   "source": [
    "# Day 4 Reading Journal\n",
    "\n",
    "This journal includes several required exercises, but it is meant to encourage active reading more generally.  You should use the journal to take detailed notes, catalog questions, and explore the content from Think Python deeply.\n",
    "\n",
    "Reading: Think Python Chapter 10\n",
    "\n",
    "**Due: Thursday, February 4 at 12 noon**\n",
    "\n"
   ]
  },
  {
   "cell_type": "markdown",
   "metadata": {},
   "source": [
    "## [Chapter 10](http://www.greenteapress.com/thinkpython/html/thinkpython011.html)\n",
    "## Lists\n",
    "You may want to review [state diagrams in Chapter 2](http://www.greenteapress.com/thinkpython/html/thinkpython003.html#toc13). [Python Tutor](http://pythontutor.com/) is also helpful for visualizing the state of your program.\n",
    "\n"
   ]
  },
  {
   "cell_type": "markdown",
   "metadata": {},
   "source": [
    "#### Map, filter, reduce\n",
    "- augmented assignment statement: x += y is the same as x = x + y\n",
    "- in the above statement, x is an **accumulator**\n",
    "- *sum* adds up elements in a list\n",
    "- ***maybe look back at this section because some of this stuff is weird***\n",
    "\n",
    "#### Deleting elements\n",
    "- .pop(): modifies list and returns the element that was removed. .pop(2) removes and returns the 2nd index. If the () are empty, then it pops the last element\n",
    "- del: removes the element and returns nothing, goes by index. Can also slice\n",
    "- .remove: takes out the element, referenced by the actual element, not the index of the element"
   ]
  },
  {
   "cell_type": "markdown",
   "metadata": {},
   "source": [
    "### Exercise 4  \n",
    "Write a function called `middle` that takes a list and returns a new list that contains all but the first and last elements. So `middle([1,2,3,4])` should return `[2,3]`."
   ]
  },
  {
   "cell_type": "code",
   "execution_count": 1,
   "metadata": {
    "collapsed": false
   },
   "outputs": [
    {
     "data": {
      "text/plain": [
       "[[2, 3]]"
      ]
     },
     "execution_count": 1,
     "metadata": {},
     "output_type": "execute_result"
    }
   ],
   "source": [
    "def middle (random_list):\n",
    "    new_list = []\n",
    "    for element in random_list:\n",
    "        new_list = [random_list[1:-1]]\n",
    "    return new_list\n",
    "\n",
    "middle([1,2,3,4])"
   ]
  },
  {
   "cell_type": "markdown",
   "metadata": {},
   "source": [
    "### Exercise 5  \n",
    "Write a function called `chop` that takes a list, modifies it by removing the first and last elements, and returns `None`.\n",
    "\n",
    "What is the difference between `middle` and `chop`? Sketch out the program state or take a look at each in Python Tutor."
   ]
  },
  {
   "cell_type": "code",
   "execution_count": 1,
   "metadata": {
    "collapsed": false
   },
   "outputs": [
    {
     "name": "stdout",
     "output_type": "stream",
     "text": [
      "[2, 3]\n"
     ]
    }
   ],
   "source": [
    "def chop(random_list):\n",
    "    del random_list[0]\n",
    "    del random_list[-1]\n",
    "    return None\n",
    "\n",
    "random_list = [1,2,3,4]\n",
    "chop(random_list)\n",
    "print random_list"
   ]
  },
  {
   "cell_type": "markdown",
   "metadata": {},
   "source": [
    "#### Lists and strings\n",
    "- string = sequence of characters, list = sequence of values\n",
    "- *list* takes a string and converts it to a list of characters. 'spam' -> ['s', 'p', 'a', 'm']\n",
    "- *.split* breaks a string into words\n",
    "- **delimiter** specifices which characters are word boundaries. The includes the hyphen ('spam-spam-spam')\n",
    "- *.join* is the opposite of *.split*: takes a list of words and combines them into a string that's a sentence\n",
    "\n",
    "#### Objects and values\n",
    "- *is* checks is two strings are the same. Ex) a='banana' | b='banana' | a *is* b | --> True\n",
    "- two lists can never be identical, only equivalent\n",
    "\n",
    "#### Aliasing\n",
    "- reference: the association of a variablw with an object\n",
    "- an object with more than one reference has more than one name so it is **aliased**\n",
    "- if the aliased object is mutable, changes in one alias will affect the other\n",
    "\n",
    "#### List Arguments\n",
    "- When a funciton takes in a list, what the function calls and what the list is named are the same thing\n",
    "- ***confused about the rest of this one***\n",
    "\n",
    "#### Debugging\n",
    "- don't foget that most list methods modify the argument and return None\n",
    "- pick a tool and stick to it\n",
    "- make copies to avoid aliasing (change names of shit)"
   ]
  },
  {
   "cell_type": "markdown",
   "metadata": {},
   "source": [
    "### Exercise 7  \n",
    "Two words are anagrams if you can rearrange the letters from one to spell the other. Write a function called `is_anagram` that takes two strings and returns `True` if they are anagrams."
   ]
  },
  {
   "cell_type": "code",
   "execution_count": 7,
   "metadata": {
    "collapsed": false
   },
   "outputs": [
    {
     "data": {
      "text/plain": [
       "False"
      ]
     },
     "execution_count": 7,
     "metadata": {},
     "output_type": "execute_result"
    }
   ],
   "source": [
    "def anagram(word_one, word_two):\n",
    "    sort_word_one = sorted(word_one)\n",
    "    sort_word_two = sorted(word_two)\n",
    "    if sort_word_two == sort_word_one:\n",
    "        return True\n",
    "    else:\n",
    "        return False\n",
    "\n",
    "anagram('supper', 'persou')\n"
   ]
  },
  {
   "cell_type": "markdown",
   "metadata": {},
   "source": [
    "### Exercise 8  \n",
    "The (so-called) Birthday Paradox:\n",
    "1. Write a function called `has_duplicates` that takes a list and returns `True` if there is any element that appears more than once. It should not modify the original list.\n",
    "2. If there are 23 students in your class, what are the chances that two of you have the same birthday? You can estimate this probability by generating random samples of 23 birthdays and checking for matches. Hint: you can generate random birthdays with the randint function in the [random module](https://docs.python.org/2/library/random.html).\n",
    "\n",
    "You can read about this problem at http://en.wikipedia.org/wiki/Birthday_paradox, and you can download Allen's solution from http://thinkpython.com/code/birthday.py."
   ]
  },
  {
   "cell_type": "code",
   "execution_count": 36,
   "metadata": {
    "collapsed": false
   },
   "outputs": [
    {
     "data": {
      "text/plain": [
       "False"
      ]
     },
     "execution_count": 36,
     "metadata": {},
     "output_type": "execute_result"
    }
   ],
   "source": [
    "import random\n",
    "\n",
    "def has_duplicates(random_list):\n",
    "    birthdays_sorted = sorted(birthdays)\n",
    "    for i in range(1,len(random_list)):\n",
    "        if random_list[i-1] == random_list[i]:\n",
    "            return True\n",
    "    return False\n",
    "        \n",
    "\n",
    "        \n",
    "\n",
    "birthdays = [random.randint(0, 365) for x in range(23)]\n",
    "has_duplicates(birthdays)\n",
    "    "
   ]
  },
  {
   "cell_type": "markdown",
   "metadata": {},
   "source": [
    "### Challenge: Exercise 11 (optional)\n",
    "\n",
    "You should read [Chapter 9.1](http://www.greenteapress.com/thinkpython/html/thinkpython010.html) and do Exercise 1 first.\n",
    "\n",
    "To check whether a word is in the word list, you could use the `in` operator, but it would be relatively slow because it searches through the words in order (try it).\n",
    "\n",
    "Because the words are in alphabetical order, we can speed things up with a bisection search (also known as binary search), which is similar to what you do when you look a word up in the dictionary. You start in the middle and check to see whether the word you are looking for comes before the word in the middle of the list. If so, then you search the first half of the list the same way. Otherwise you search the second half.\n",
    "\n",
    "Either way, you cut the remaining search space in half. If the word list has 113,809 words, it will take about 17 steps to find the word or conclude that it’s not there.\n",
    "\n",
    "Write a function called `bisect` that takes a sorted list and a target value and returns the index of the value in the list, if it’s there, or `None` if it’s not.\n",
    "\n",
    "Or you could read the documentation of the `bisect` module and use that! Solution: http://thinkpython.com/code/inlist.py."
   ]
  },
  {
   "cell_type": "code",
   "execution_count": null,
   "metadata": {
    "collapsed": true
   },
   "outputs": [],
   "source": []
  },
  {
   "cell_type": "markdown",
   "metadata": {},
   "source": [
    "## Reading Journal feedback\n",
    "\n",
    "Have any comments on this Reading Journal? Feel free to leave them below and we'll read them when you submit your journal entry. This could include suggestions to improve the exercises, topics you'd like to see covered in class next time, or other feedback.\n",
    "\n",
    "If you have Python questions or run into problems while completing the reading, you should post them to Piazza instead so you can get a quick response before your journal is submitted."
   ]
  },
  {
   "cell_type": "markdown",
   "metadata": {},
   "source": [
    " "
   ]
  }
 ],
 "metadata": {
  "kernelspec": {
   "display_name": "Python 2",
   "language": "python",
   "name": "python2"
  },
  "language_info": {
   "codemirror_mode": {
    "name": "ipython",
    "version": 2
   },
   "file_extension": ".py",
   "mimetype": "text/x-python",
   "name": "python",
   "nbconvert_exporter": "python",
   "pygments_lexer": "ipython2",
   "version": "2.7.6"
  }
 },
 "nbformat": 4,
 "nbformat_minor": 0
}
