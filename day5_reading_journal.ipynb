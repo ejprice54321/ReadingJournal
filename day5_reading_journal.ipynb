{
 "cells": [
  {
   "cell_type": "markdown",
   "metadata": {},
   "source": [
    "# Day 5 Reading Journal\n",
    "\n",
    "This journal includes several required exercises, but it is meant to encourage active reading more generally.  You should use the journal to take detailed notes, catalog questions, and explore the content from Think Python deeply.\n",
    "\n",
    "Reading: Think Python Chapter 4\n",
    "\n",
    "**Due: Monday, February 8 at 12 noon**\n",
    "\n"
   ]
  },
  {
   "cell_type": "markdown",
   "metadata": {},
   "source": [
    "## [Chapter 4](http://www.greenteapress.com/thinkpython/html/thinkpython005.html)\n",
    "\n",
    "In today's reading, you'll be exploring TurtleWorld!\n",
    "TurtleWorld is part of the [swampy](http://www.greenteapress.com/thinkpython/swampy/) package, written by Allen Downey.\n",
    "As part of the [Get Set](https://sites.google.com/site/sd16spring/home/assignments-and-mini-projects/setup-your-environment) assignment, you installed the swampy package using the pip Python package management tool. If you somehow missed that step or you see errors when you try to import TurtleWorld, you can install swampy by running:\n",
    "\n",
    "```\n",
    "sudo pip install swampy\n",
    "```\n",
    "\n",
    "at the command line.\n",
    "\n",
    "### Turtle wrangling\n",
    "\n",
    "You can always run your code as separate Python scripts, but here are a few tips for mixing TurtleWorld with Jupyter notebook:\n",
    "\n",
    " - TurtleWorld will appear in a new GUI window, rather than inline in the notebook like typical results do\n",
    " - You will not be able to close the TurtleWorld window unless you run `wait_for_user()` as the last line of your code.\n",
    " - Jupyter notebook works like one big Python script, even though it is broken up into sections. This means that you could create a Turtle in one cell, move it in a later cell, and then `wait_for_user()` in yet another. Despite this, it might be easier to treat each cell in this assignment as a separate script, creating a new world at the beginning and destroying it at the end of each."
   ]
  },
  {
   "cell_type": "markdown",
   "metadata": {},
   "source": [
    "### Get started\n",
    "\n",
    "Run the code in the cell below and make sure everything works. You should see brave Alice spring into the world and run forward. You can close the window when you're done by clicking on the 'X'. If this simple test doesn't work, check your swampy install (especially if you get an `ImportError`) and ask for help."
   ]
  },
  {
   "cell_type": "code",
   "execution_count": 1,
   "metadata": {
    "collapsed": true
   },
   "outputs": [],
   "source": [
    "from swampy.TurtleWorld import *\n",
    "\n",
    "# Create the world, and a turtle to put in it\n",
    "world = TurtleWorld()\n",
    "alice = Turtle()\n",
    "\n",
    "# Get moving, turtle!\n",
    "fd(alice, 50)\n",
    "\n",
    "# Wait for the user to close the window\n",
    "wait_for_user()"
   ]
  },
  {
   "cell_type": "markdown",
   "metadata": {
    "is_question": true,
    "problem": "Section 4.3"
   },
   "source": [
    "### Section 4.3 exercises\n",
    "Work through exercises 1-5 in Section 4.3, creating the `square`, `polygon`, `circle`, and `arc` functions. You can reference Allen's solutions, but please try the problems on your own first."
   ]
  },
  {
   "cell_type": "code",
   "execution_count": 4,
   "metadata": {
    "collapsed": false,
    "solution": "Section 4.3"
   },
   "outputs": [
    {
     "name": "stdout",
     "output_type": "stream",
     "text": [
      "<swampy.TurtleWorld.Turtle object at 0x7fc87c69bf90>\n"
     ]
    }
   ],
   "source": [
    "from swampy.TurtleWorld import *\n",
    "\n",
    "\n",
    "def square(t):\n",
    "    print t\n",
    "    for i in range(4):\n",
    "        fd(t, 100)\n",
    "        lt(t)\n",
    "    wait_for_user()\n",
    "    \n",
    "    \n",
    "world = TurtleWorld()\n",
    "bob = Turtle()\n",
    "square(bob)"
   ]
  },
  {
   "cell_type": "code",
   "execution_count": 6,
   "metadata": {
    "collapsed": false
   },
   "outputs": [
    {
     "name": "stdout",
     "output_type": "stream",
     "text": [
      "<swampy.TurtleWorld.Turtle object at 0x7f5fcc14fb50>\n"
     ]
    }
   ],
   "source": [
    "def square(t, length):\n",
    "    world = TurtleWorld()\n",
    "    t = Turtle()\n",
    "    print t\n",
    "    for i in range(4):\n",
    "        fd(t, length)\n",
    "        lt(t)\n",
    "    wait_for_user()\n",
    "\n",
    "square(bob, 50)"
   ]
  },
  {
   "cell_type": "code",
   "execution_count": 28,
   "metadata": {
    "collapsed": false
   },
   "outputs": [
    {
     "name": "stdout",
     "output_type": "stream",
     "text": [
      "<swampy.TurtleWorld.Turtle object at 0x7f5fc77b49d0>\n"
     ]
    }
   ],
   "source": [
    "def polygon(t, length, n):\n",
    "    angle = 180 - (((n - 2) * 180)/n)\n",
    "    world = TurtleWorld()\n",
    "    t = Turtle()\n",
    "    print t\n",
    "    for i in range(n):\n",
    "        fd(t, length)\n",
    "        lt(t, angle)\n",
    "    wait_for_user()\n",
    "\n",
    "polygon(bob, 100, 6)"
   ]
  },
  {
   "cell_type": "code",
   "execution_count": 19,
   "metadata": {
    "collapsed": false,
    "scrolled": false
   },
   "outputs": [],
   "source": [
    "import math\n",
    "\n",
    "\n",
    "def polyline(t, n, length, angle):\n",
    "    for i in range(n):\n",
    "        fd(t, length)\n",
    "        lt(t, angle)\n",
    "\n",
    "def polygon(t, n, length):\n",
    "    angle = 360.0/n\n",
    "    polyline(t, n, length, angle)\n",
    "\n",
    "def arc(t, r, angle):\n",
    "    arc_length = 2 * math.pi * r * angle/360\n",
    "    n = int(arc_length / 10) + 1\n",
    "    step_length = arc_length / n\n",
    "    step_angle = float(angle) / n\n",
    "    polyline(t, n, step_length, step_angle)\n",
    "\n",
    "def circle(t, r):\n",
    "    arc(t, r, 360)\n",
    "\n",
    "    \n",
    "world = TurtleWorld()\n",
    "bob = Turtle()\n",
    "bob.delay = 0.01\n",
    "circle(bob, 30)\n",
    "wait_for_user()"
   ]
  },
  {
   "cell_type": "markdown",
   "metadata": {},
   "source": [
    "#### Encapsulation\n",
    "- wrapping a piece of code in a function\n",
    "- attaches name to code and allows you to recall the code many times\n",
    "\n",
    "#### Generalization\n",
    "- generalixation: adding a parameter to a function. Makes the function more general\n",
    "- keyword arguments: when you put the keyword in the argument as you are calling the function\n",
    "\n",
    "#### Interface Design\n",
    "- summary of how a function is used\n",
    "- an interface is \"clean\" if it is \"as simple as possible, but not simpler\"\n",
    "\n",
    "#### Refractoring\n",
    "- rearranging a program to improve function interfaces and makes code more reusable\n",
    "\n",
    "#### A Development Plan\n",
    "- a process for writing programs\n",
    "- start with writing a small program w/out function definitions\n",
    "- encapsulate program once it starts working and give it a name\n",
    "- generalize\n",
    "- keep going until you have a set\n",
    "- refactor as you go\n",
    "\n",
    "#### Docstring\n",
    "- string at the beginning of a function that explains the interface\n",
    "- \"\"\" use these\"\"\"\n",
    "\n",
    "#### Debugging\n",
    "- preconditions: things that must be true for the program to work (like having certain parameters be integers, floats, strings)\n",
    "- postconditions: intended effect of the function"
   ]
  },
  {
   "cell_type": "markdown",
   "metadata": {
    "is_question": true,
    "problem": "More fun"
   },
   "source": [
    "### Exercise: More fun with Turtles!\n",
    "Complete at least one of Exercise 2, 3, 4, or 5. If you come up with some cool drawings you'd like to share with the rest of the class, let us know!"
   ]
  },
  {
   "cell_type": "code",
   "execution_count": 42,
   "metadata": {
    "collapsed": false,
    "solution": "More fun"
   },
   "outputs": [],
   "source": [
    "def polyline(t, n, length, angle):\n",
    "    for i in range(n):\n",
    "        fd(t, length)\n",
    "        lt(t, angle)\n",
    "\n",
    "def polygon(t, n, length):\n",
    "    angle = 360.0/n\n",
    "    polyline(t, n, length, angle)\n",
    "\n",
    "def arc(t, r, angle):\n",
    "    arc_length = 2 * math.pi * r * angle/360\n",
    "    n = int(arc_length / 10) + 1\n",
    "    step_length = arc_length / n\n",
    "    step_angle = float(angle) / n\n",
    "    polyline(t, n, step_length, step_angle)\n",
    "\n",
    "def petal(t, r, angle, n):\n",
    "    for i in range(n/2):\n",
    "        arc(t, r, angle)\n",
    "        lt(t, 180 - angle)\n",
    "        arc(t, r, angle)\n",
    "        rt(t, angle)\n",
    "        arc(t, r, angle)\n",
    "        lt(t, 180 - angle)\n",
    "        arc(t, r, angle)\n",
    "\n",
    "world = TurtleWorld()\n",
    "bob = Turtle()\n",
    "bob.delay = 0.01\n",
    "petal(bob, 100, 30, 10)\n",
    "wait_for_user()"
   ]
  },
  {
   "cell_type": "markdown",
   "metadata": {},
   "source": [
    "## Reading Journal feedback\n",
    "\n",
    "Have any comments on this Reading Journal? Feel free to leave them below and we'll read them when you submit your journal entry. This could include suggestions to improve the exercises, topics you'd like to see covered in class next time, or other feedback.\n",
    "\n",
    "If you have Python questions or run into problems while completing the reading, you should post them to Piazza instead so you can get a quick response before your journal is submitted."
   ]
  },
  {
   "cell_type": "markdown",
   "metadata": {},
   "source": [
    " "
   ]
  }
 ],
 "metadata": {
  "kernelspec": {
   "display_name": "Python 2",
   "language": "python",
   "name": "python2"
  },
  "language_info": {
   "codemirror_mode": {
    "name": "ipython",
    "version": 2
   },
   "file_extension": ".py",
   "mimetype": "text/x-python",
   "name": "python",
   "nbconvert_exporter": "python",
   "pygments_lexer": "ipython2",
   "version": "2.7.6"
  }
 },
 "nbformat": 4,
 "nbformat_minor": 0
}
