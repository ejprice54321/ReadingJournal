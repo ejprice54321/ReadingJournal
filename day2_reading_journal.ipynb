{
 "cells": [
  {
   "cell_type": "markdown",
   "metadata": {},
   "source": [
    "# Day 2 Reading Journal\n",
    "\n",
    "This journal includes several required exercises, but it is meant to encourage active reading more generally.  You should use the journal to take detailed notes, catalog questions, and explore the content from Think Python deeply.\n",
    "\n",
    "Reading: Think Python Chapter 6.1-6.4, 7\n",
    "\n",
    "**Due: Thursday, January 28 at 12 noon**\n",
    "\n"
   ]
  },
  {
   "cell_type": "markdown",
   "metadata": {},
   "source": [
    "## [Chapter 6.1-6.4](http://www.greenteapress.com/thinkpython/html/thinkpython007.html)\n",
    "## Fruitful Functions\n",
    "Note: the exercise numbers below match up with the reading for ease of cross referencing."
   ]
  },
  {
   "cell_type": "markdown",
   "metadata": {},
   "source": [
    "**Quick check:** What is a _fruitful function_?"
   ]
  },
  {
   "cell_type": "markdown",
   "metadata": {},
   "source": [
    "A function that produces a result"
   ]
  },
  {
   "cell_type": "markdown",
   "metadata": {},
   "source": [
    "#### Return Values\n",
    "- return at the end of a funtion means \"return immediately from this function and use the following expression as a return value\"\n",
    "- temporary variables:\n",
    "- can be useful to have multiple return values (like in an if statement)\n",
    "- dead code: code after return statement of other places flow of execution can't reach\n",
    "- make sure every part of code hits a return statement (doc.test)\n"
   ]
  },
  {
   "cell_type": "markdown",
   "metadata": {},
   "source": [
    "### Exercise 1  \n",
    "Write a `compare` function that returns `1` if `x > y`, `0` if `x == y`, and `-1` if `x < y`."
   ]
  },
  {
   "cell_type": "code",
   "execution_count": 4,
   "metadata": {
    "collapsed": false
   },
   "outputs": [
    {
     "data": {
      "text/plain": [
       "1"
      ]
     },
     "execution_count": 4,
     "metadata": {},
     "output_type": "execute_result"
    }
   ],
   "source": [
    "def compare(x, y):\n",
    "    if x>y:\n",
    "        return 1\n",
    "    if x == y:\n",
    "        return 0\n",
    "    if x<y:\n",
    "        return -1\n",
    "    \n",
    "compare(1, 2)\n",
    "compare(1, 1)\n",
    "compare(2, 1)"
   ]
  },
  {
   "cell_type": "markdown",
   "metadata": {},
   "source": [
    "**Quick check:** Modify the `absolute_value` function so that it returns the correct result for all integer inputs."
   ]
  },
  {
   "cell_type": "code",
   "execution_count": 5,
   "metadata": {
    "collapsed": true
   },
   "outputs": [],
   "source": [
    "def absolute_value(x):\n",
    "    if x < 0:\n",
    "        return -x\n",
    "    if x > 0:\n",
    "        return x\n",
    "    if x == 0:\n",
    "        return 0"
   ]
  },
  {
   "cell_type": "markdown",
   "metadata": {},
   "source": [
    "#### Incremental Development\n",
    "- avoid long debugging by adding and testing small chunks at a time\n",
    "- check what the inputs and what are the outputs\n",
    "- when testing it is useful to know the right answer\n",
    "- add to the code body\n",
    "- print as you debug (scaffolding)\n",
    "- start with small chunks and build up\n",
    "- use temporary variabls to hold intermediate values so you can display and check them\n",
    "- remove scaffolding when done"
   ]
  },
  {
   "cell_type": "markdown",
   "metadata": {},
   "source": [
    "### Exercise 2  \n",
    "Use incremental development to write a function called `hypotenuse` that returns the length of the hypotenuse of a right triangle given the lengths of the two legs as arguments. Record each stage of the development process as you go, using as many cells as you need."
   ]
  },
  {
   "cell_type": "code",
   "execution_count": 14,
   "metadata": {
    "collapsed": false,
    "scrolled": true
   },
   "outputs": [],
   "source": [
    "import math\n",
    "def hypotenuse(leg1, leg2): # function takes the lengths of the two legs as arguments\n",
    "    return 0.0 #this will return the length of the hypotenuse as a floating point"
   ]
  },
  {
   "cell_type": "code",
   "execution_count": 15,
   "metadata": {
    "collapsed": true
   },
   "outputs": [],
   "source": [
    "def hypotenuse(leg1, leg2): # function takes the lengths of the two legs as arguments\n",
    "    legs_squared = leg1**2 + leg2**2\n",
    "    print legs_squared\n",
    "    return 0.0 #this will return the length of the hypotenuse as a floating point"
   ]
  },
  {
   "cell_type": "code",
   "execution_count": 16,
   "metadata": {
    "collapsed": false
   },
   "outputs": [],
   "source": [
    "def hypotenuse(leg1, leg2): # function takes the lengths of the two legs as arguments\n",
    "    legs_squared = leg1**2 + leg2**2\n",
    "    result = math.sqrt(legs_squared)\n",
    "    print result\n",
    "    return result #this will return the length of the hypotenuse as a floating point"
   ]
  },
  {
   "cell_type": "code",
   "execution_count": 17,
   "metadata": {
    "collapsed": false
   },
   "outputs": [
    {
     "name": "stdout",
     "output_type": "stream",
     "text": [
      "5.0\n"
     ]
    },
    {
     "data": {
      "text/plain": [
       "5.0"
      ]
     },
     "execution_count": 17,
     "metadata": {},
     "output_type": "execute_result"
    }
   ],
   "source": [
    "hypotenuse(3, 4)"
   ]
  },
  {
   "cell_type": "markdown",
   "metadata": {},
   "source": [
    "#### Composition\n",
    "- composition: ability to call one function from within another\n",
    "\n",
    "#### Boolean Functions\n",
    "- functions call return booleans, good way of hiding tests\n",
    "- == operator returns a boolean"
   ]
  },
  {
   "cell_type": "markdown",
   "metadata": {},
   "source": [
    "### Exercise 3  \n",
    "Write a function `is_between(x, y, z)` that returns `True` if `x ≤ y ≤ z` or `False` otherwise."
   ]
  },
  {
   "cell_type": "code",
   "execution_count": 22,
   "metadata": {
    "collapsed": false
   },
   "outputs": [
    {
     "data": {
      "text/plain": [
       "False"
      ]
     },
     "execution_count": 22,
     "metadata": {},
     "output_type": "execute_result"
    }
   ],
   "source": [
    "def is_between(x, y, z):\n",
    "    if x<=y and y<=z:\n",
    "        return True\n",
    "    else:\n",
    "        return False\n",
    "    \n",
    "is_between(4,5,6)\n",
    "is_between(7,7,5)"
   ]
  },
  {
   "cell_type": "markdown",
   "metadata": {},
   "source": [
    "## [Chapter 7](http://www.greenteapress.com/thinkpython/html/thinkpython008.html)\n",
    "## Iteration\n"
   ]
  },
  {
   "cell_type": "markdown",
   "metadata": {},
   "source": [
    "**Quick check:** How do you test for equality in Python?"
   ]
  },
  {
   "cell_type": "markdown",
   "metadata": {},
   "source": [
    " "
   ]
  },
  {
   "cell_type": "markdown",
   "metadata": {},
   "source": [
    "**Challenge:** Prove/disprove the Collatz conjecture :)"
   ]
  },
  {
   "cell_type": "markdown",
   "metadata": {},
   "source": [
    "#### Multiple assignment\n",
    "- new variable assignment replaces old one\n",
    "- if you say two variables and then change one of the values, the other does not change\n",
    "\n",
    "#### Updating variables\n",
    "- update: new value depends on the old\n",
    "- must **initialize** first: assign starting value to a variable\n",
    "- increment/decrement: adding/subtracting 1\n",
    "\n",
    "#### The *While* Statement\n",
    "- while something is happening, do something else\n",
    "- step 1: evaluate the condition, yielding true or false\n",
    "- step 2: if condition is false, exit statement and continue execution at the next statement\n",
    "- step 3: if condition is true, execute body and go back to step 1\n",
    "- type of flow = loop, continues to loop\n",
    "- infite loop: does what it says\n",
    "- sometimes loops are infinite or finite depending on when the initial value is\n",
    "\n",
    "#### Break\n",
    "- jump out of the loop\n",
    "\n",
    "#### Square roots\n",
    "- the formula y = (x + a/x)/2 estimates square roots with where a is what is being rooted and x is randomly guessed. The more iterations, the more accurate until x = y. Could have a loop with this that breaks when x = y"
   ]
  },
  {
   "cell_type": "markdown",
   "metadata": {},
   "source": [
    "### Exercise 2  \n",
    "Encapsulate the loop from Section 7.5 in a function called `square_root` that takes `a` as a parameter, chooses a reasonable value of `x`, and returns an estimate of the square root of `a`."
   ]
  },
  {
   "cell_type": "code",
   "execution_count": 29,
   "metadata": {
    "collapsed": false
   },
   "outputs": [
    {
     "name": "stdout",
     "output_type": "stream",
     "text": [
      "9.38083151965\n"
     ]
    }
   ],
   "source": [
    "def square_root(a):\n",
    "    x = a/3.0\n",
    "    y = (x + a/x) / 2\n",
    "    while x != y:\n",
    "        x = y\n",
    "        y = (x + a/x) / 2\n",
    "        if y == x:\n",
    "            break\n",
    "    print x\n",
    "            \n",
    "square_root(88)"
   ]
  },
  {
   "cell_type": "markdown",
   "metadata": {},
   "source": [
    "#### Algorithms\n",
    "- a mechanical process for solving a category of problems\n",
    "- require no intelligence to carryout\n",
    "- designing them is much harder, central part of programming\n",
    "\n",
    "#### Debugging\n",
    "- more code = more chances for error and bugs\n",
    "- break up the code and look for something that can be checked in the middle and print it"
   ]
  },
  {
   "cell_type": "markdown",
   "metadata": {},
   "source": [
    "### Exercise 3  \n",
    "To test the square root algorithm you developed in Exercise 2, you could compare it with Python's `math.sqrt` function. Write a function named `test_square_root` that prints a table like this:\n",
    "\n",
    "```python\n",
    "1.0 1.0           1.0           0.0\n",
    "2.0 1.41421356237 1.41421356237 2.22044604925e-16\n",
    "3.0 1.73205080757 1.73205080757 0.0\n",
    "4.0 2.0           2.0           0.0\n",
    "5.0 2.2360679775  2.2360679775  0.0\n",
    "6.0 2.44948974278 2.44948974278 0.0\n",
    "7.0 2.64575131106 2.64575131106 0.0\n",
    "8.0 2.82842712475 2.82842712475 4.4408920985e-16\n",
    "9.0 3.0           3.0           0.0\n",
    "```\n",
    "\n",
    "The first column is a number, `a`; the second column is the square root of a computed with the function from Section 7.5; the third column is the square root computed by `math.sqrt`; the fourth column is the absolute value of the difference between the two estimates."
   ]
  },
  {
   "cell_type": "code",
   "execution_count": 6,
   "metadata": {
    "collapsed": false
   },
   "outputs": [
    {
     "name": "stdout",
     "output_type": "stream",
     "text": [
      "1 1.0 1.0 0.0\n",
      "2 1.41421356237 1.41421356237 -2.22044604925e-16\n",
      "3 1.73205080757 1.73205080757 0.0\n",
      "4 2.0 2.0 0.0\n",
      "5 2.2360679775 2.2360679775 0.0\n",
      "6 2.44948974278 2.44948974278 0.0\n",
      "7 2.64575131106 2.64575131106 0.0\n",
      "8 2.82842712475 2.82842712475 -4.4408920985e-16\n",
      "9 3.0 3.0 0.0\n"
     ]
    }
   ],
   "source": [
    "import math\n",
    "def square_root(a):\n",
    "    x = a/3.0\n",
    "    y = (x + a/x) / 2\n",
    "    while x != y:\n",
    "        x = y\n",
    "        y = (x + a/x) / 2\n",
    "        if y == x:\n",
    "            break\n",
    "    return x\n",
    "def test_square_root(x):\n",
    "    while x<=9:\n",
    "        a = x\n",
    "        h = square_root(a)\n",
    "        j = math.sqrt(a)\n",
    "        k = h - j\n",
    "        x = x+1\n",
    "        print a, h, j, k\n",
    "    \n",
    "test_square_root(1)\n"
   ]
  },
  {
   "cell_type": "markdown",
   "metadata": {},
   "source": [
    "### Challenge: Exercise 5  (optional)\n",
    "The mathematician Srinivasa Ramanujan found an infinite series that can be used to generate a numerical approximation of\n",
    "$\\frac{1}{\\pi}$:\n",
    "\n",
    "$$\\frac{1}{\\pi} = \\frac{2 \\sqrt{2}}{9801} \\sum_{k=0}^{\\infty} \\frac{(4k)! (1103+26390k)}{(k!)^4 396^{4k}}$$\n",
    " \n",
    "Write a function called `estimate_pi` that uses this formula to compute and return an estimate of $\\pi$. It should use a `while` loop to compute terms of the summation until the last term is smaller than `1e-15` (which is Python notation for $10^{−15}$). You can check the result by comparing it to `math.pi`.\n",
    "\n",
    "[Possible solution](http://thinkpython.com/code/pi.py) (give the exercise a try before viewing the solution)"
   ]
  },
  {
   "cell_type": "code",
   "execution_count": null,
   "metadata": {
    "collapsed": true
   },
   "outputs": [],
   "source": []
  },
  {
   "cell_type": "markdown",
   "metadata": {},
   "source": [
    "## Reading Journal feedback\n",
    "\n",
    "Have any comments on this Reading Journal? Feel free to leave them below and we'll read them when you submit your journal entry. This could include suggestions to improve the exercises, topics you'd like to see covered in class next time, or other feedback.\n",
    "\n",
    "If you have Python questions or run into problems while completing the reading, you should post them to Piazza instead so you can get a quick response before your journal is submitted."
   ]
  },
  {
   "cell_type": "markdown",
   "metadata": {},
   "source": [
    " "
   ]
  }
 ],
 "metadata": {
  "kernelspec": {
   "display_name": "Python 2",
   "language": "python",
   "name": "python2"
  },
  "language_info": {
   "codemirror_mode": {
    "name": "ipython",
    "version": 2
   },
   "file_extension": ".py",
   "mimetype": "text/x-python",
   "name": "python",
   "nbconvert_exporter": "python",
   "pygments_lexer": "ipython2",
   "version": "2.7.6"
  }
 },
 "nbformat": 4,
 "nbformat_minor": 0
}
