{
 "cells": [
  {
   "cell_type": "markdown",
   "metadata": {},
   "source": [
    "# Day 7 Reading Journal\n",
    "\n",
    "This journal includes several required exercises, but it is meant to encourage active reading more generally.  You should use the journal to take detailed notes, catalog questions, and explore the content from Think Python deeply.\n",
    "\n",
    "Reading: Think Python Chapter 11, 12\n",
    "\n",
    "**Due: Thursday, February 18 at 12 noon**\n",
    "\n"
   ]
  },
  {
   "cell_type": "markdown",
   "metadata": {},
   "source": [
    "## [Chapter 11](http://www.greenteapress.com/thinkpython/html/thinkpython012.html)\n",
    "## Dictionaries\n",
    "- a list, but more general, the indices do not have to be integers\n",
    "- map between a set of indices (called keys) and a set of values\n",
    "- a key and value are called a key-value pair or item\n",
    "- len works\n",
    "- in operator works too"
   ]
  },
  {
   "cell_type": "markdown",
   "metadata": {},
   "source": [
    "**Quick check:** In about one sentence using your own words, what is a dictionary?"
   ]
  },
  {
   "cell_type": "markdown",
   "metadata": {},
   "source": [
    "A list of words and their definitions "
   ]
  },
  {
   "cell_type": "markdown",
   "metadata": {},
   "source": [
    "#### Dictionary as a set of counters\n",
    "- implementaion: a way of performing a computations, some are better than others\n",
    "- Example below"
   ]
  },
  {
   "cell_type": "code",
   "execution_count": 2,
   "metadata": {
    "collapsed": false
   },
   "outputs": [
    {
     "data": {
      "text/plain": [
       "{'c': 1,\n",
       " 'e': 1,\n",
       " 'h': 1,\n",
       " 'i': 1,\n",
       " 'k': 1,\n",
       " 'o': 1,\n",
       " 'p': 1,\n",
       " 'r': 1,\n",
       " 's': 1,\n",
       " 't': 1}"
      ]
     },
     "execution_count": 2,
     "metadata": {},
     "output_type": "execute_result"
    }
   ],
   "source": [
    "def histogram(s):\n",
    "    d = dict()\n",
    "    for c in s:\n",
    "        if c not in d:\n",
    "            d[c] = 1\n",
    "        else:\n",
    "            d[c] += 1\n",
    "    return d\n",
    "\n",
    "histogram('rocketship')"
   ]
  },
  {
   "cell_type": "markdown",
   "metadata": {
    "is_question": true,
    "problem": "Exercise 11.2"
   },
   "source": [
    "### Exercise 2  \n",
    "\n",
    "Dictionaries have a [method called `get`](https://docs.python.org/2/library/stdtypes.html#mapping-types-dict) that takes a key and a default value. If the key appears in the dictionary, `get` returns the corresponding value; otherwise it returns the default value. For example:\n",
    "\n",
    "```\n",
    ">>> h = histogram('a')\n",
    ">>> print h\n",
    "{'a': 1}\n",
    ">>> h.get('a', 0)\n",
    "1\n",
    ">>> h.get('b', 0)\n",
    "0\n",
    "```\n",
    "\n",
    "Use `get` to write `histogram` more concisely. You should be able to eliminate the `if` statement. Add unit tests for your histogram implementation."
   ]
  },
  {
   "cell_type": "code",
   "execution_count": 5,
   "metadata": {
    "collapsed": false,
    "solution": "Exercise 11.2"
   },
   "outputs": [
    {
     "data": {
      "text/plain": [
       "{'a': 1, 'o': 1, 'p': 1, 'r': 2, 't': 1}"
      ]
     },
     "execution_count": 5,
     "metadata": {},
     "output_type": "execute_result"
    }
   ],
   "source": [
    "def histogram(s):\n",
    "    d = dict()\n",
    "    for c in s:\n",
    "        d[c] = d.get(c, 0) + 1\n",
    "    return d\n",
    "\n",
    "histogram('parrot')"
   ]
  },
  {
   "cell_type": "markdown",
   "metadata": {},
   "source": [
    "#### Looping and dictionaries\n",
    "- if you use a dictionary in a *for* statements, it traverses the keys of the dictionary\n",
    "- example below:"
   ]
  },
  {
   "cell_type": "code",
   "execution_count": 3,
   "metadata": {
    "collapsed": false
   },
   "outputs": [
    {
     "name": "stdout",
     "output_type": "stream",
     "text": [
      "a 1\n",
      "p 1\n",
      "r 2\n",
      "t 1\n",
      "o 1\n"
     ]
    }
   ],
   "source": [
    "def histogram(s):\n",
    "    d = dict()\n",
    "    for c in s:\n",
    "        if c not in d:\n",
    "            d[c] = 1\n",
    "        else:\n",
    "            d[c] += 1\n",
    "    return d\n",
    "\n",
    "def print_hist(h):\n",
    "    for c in h:\n",
    "        print c, h[c]\n",
    "        \n",
    "h = histogram('parrot')\n",
    "print_hist(h)"
   ]
  },
  {
   "cell_type": "markdown",
   "metadata": {},
   "source": [
    "#### Reverse Loopup\n",
    "- given dictionary d and key k, you can find the value by using the lookup operation, V = d[k]\n",
    "- what if you have v, and want to find k? use reverse lookup\n",
    "        def reverse_lookup(d, v):\n",
    "            for k in d:\n",
    "                if d[k] == v:\n",
    "                    return k\n",
    "            return ValueError\n",
    "    - returns the index of the dictionary if v exists inside of it, and it returns a value error if it does not"
   ]
  },
  {
   "cell_type": "markdown",
   "metadata": {
    "is_question": true,
    "problem": "Exercise 11.4"
   },
   "source": [
    "### Exercise 4  \n",
    "\n",
    "Modify `reverse_lookup` so that it builds and returns a list of all keys that map to `v`, or an empty list if there are none. Add unit tests for your implementation."
   ]
  },
  {
   "cell_type": "code",
   "execution_count": 13,
   "metadata": {
    "collapsed": false,
    "solution": "Exercise 11.4"
   },
   "outputs": [],
   "source": [
    "\"\"\" \n",
    "    >>> reverse_lookup(histogram('parrot'), 1)\n",
    "    ['a', 'p', 't', 'o']\n",
    "    >>> reverse_lookup(histogram('bus'), 1)\n",
    "    ['b', 'u', 's']\n",
    "\"\"\"\n",
    "\n",
    "def histogram(s):\n",
    "    d = dict()\n",
    "    for c in s:\n",
    "        if c not in d:\n",
    "            d[c] = 1\n",
    "        else:\n",
    "            d[c] += 1\n",
    "    return d\n",
    "\n",
    "def reverse_lookup(d, v):\n",
    "    keys = []\n",
    "    for k in d:\n",
    "        if d[k] == v:\n",
    "            keys.append(k)\n",
    "    return keys\n",
    "        \n",
    "if __name__ == \"__main__\":\n",
    "    import doctest"
   ]
  },
  {
   "cell_type": "markdown",
   "metadata": {},
   "source": [
    "#### Dictionaries and lists\n",
    "- singleton: a list that contains a single element\n",
    "- a dictionary is implemented using a hashtable, so keys must be hashable. LISTS(and other mutable things) ARE NOT\n",
    "- hash: a function that takes a value of any kind and returns an integer (or hash value). Dictionaries use these values to store and look-up key-value pairs\n",
    "- mutable things can be used as values\n",
    "\n",
    "#### Memos\n",
    "- a lot of functions end up calculating the same value multiple times\n",
    "- Need help with this\n",
    "\n",
    "#### Global variables\n",
    "- can be accessed from any function within __main__\n",
    "- often used to store boolean values and test use those variables throughout the various functions to test things for error\n",
    "- if you want to change a global variable inside of a funciton, you have to declare *global variable_name* and then change the variable name\n",
    "\n",
    "#### Long intgers\n",
    "- "
   ]
  },
  {
   "cell_type": "markdown",
   "metadata": {},
   "source": [
    "If you'd like to learn more about errors and exceptions, you can check out the [Python tutorial](https://docs.python.org/2/tutorial/errors.html) or read ahead to [Appendix A](http://www.greenteapress.com/thinkpython/html/thinkpython021.html) of Think Python. If you choose to use doctest for your unit testing, it can also [deal with exceptions](https://docs.python.org/2/library/doctest.html#what-about-exceptions)."
   ]
  },
  {
   "cell_type": "markdown",
   "metadata": {},
   "source": [
    "**Quick check** What type of objects can be used as keys to a dictionary, i.e. what property must they have?"
   ]
  },
  {
   "cell_type": "markdown",
   "metadata": {},
   "source": [
    "they must be immutable "
   ]
  },
  {
   "cell_type": "markdown",
   "metadata": {
    "is_question": true,
    "problem": "Exercise 11.6"
   },
   "source": [
    "### Exercise 6 (modified)\n",
    "\n",
    "Create a memoized version of your Levenshtein distance function from Day 7. What kind of performance change do you see?\n",
    "\n",
    "Optional: If you'd like to get some quantitative results, you could check out the [timeit](https://docs.python.org/2/library/timeit.html) module\n",
    "\n",
    "Note: You can also study Fibonacci here if you prefer."
   ]
  },
  {
   "cell_type": "code",
   "execution_count": 11,
   "metadata": {
    "collapsed": false,
    "solution": "Exercise 11.6"
   },
   "outputs": [
    {
     "data": {
      "text/plain": [
       "6"
      ]
     },
     "execution_count": 11,
     "metadata": {},
     "output_type": "execute_result"
    }
   ],
   "source": [
    "def levenshtein(s1, s2, memo):\n",
    "    # Base cases: one of the strings is empty\n",
    "    if s1 == \"\":\n",
    "        return len(s2)\n",
    "    if s2 == \"\":\n",
    "        return len(s1)\n",
    "    if (s1, s2) in memo:\n",
    "        return memo[(s1, s2)]\n",
    "    else:\n",
    "        if s1[0] == s2[0]:\n",
    "            option1 = levenshtein(s1[1:], s2[1:], memo)\n",
    "        else:\n",
    "            option1 = 1 + levenshtein(s1[1:], s2[1:], memo)\n",
    "\n",
    "        option2 = 1 + levenshtein(s1, s2[1:], memo)\n",
    "\n",
    "        option3 = 1 + levenshtein(s1[1:], s2, memo)\n",
    "\n",
    "        return min(option1, option2, option3)\n",
    "\n",
    "levenshtein('bus', 'busssssss', {})"
   ]
  },
  {
   "cell_type": "markdown",
   "metadata": {},
   "source": [
    "## [Chapter 12](http://www.greenteapress.com/thinkpython/html/thinkpython013.html)\n",
    "\n",
    "**Quick check:** In about one sentence using your own words, what is a tuple?"
   ]
  },
  {
   "cell_type": "markdown",
   "metadata": {},
   "source": [
    "an immutable list "
   ]
  },
  {
   "cell_type": "markdown",
   "metadata": {},
   "source": [
    "#### Tuples are immuntable\n",
    "- a sequence of values, indexed by integers, are immutable\n",
    "- a comma-seperated list of values, commonly enclosed in ()\n",
    "- 'a', : is a single element tuple\n",
    "- tuple is also a built-in function that does this -> tuple(fun) = ('f', 'u', 'n')\n",
    "- to index an element [do this]\n",
    "- you can assign tuples by doing this -> a,b = 1,2. Or swap like a,b = b,a\n",
    "- to divide an email:\n",
    "        addr = monty@python.org\n",
    "        uname, domain = addr.split(@)\n",
    "        uname = monty\n",
    "        domain = python.org\n",
    "\n",
    "#### Tuples as return values\n",
    "- built-in function *divmod* takes two arguments and returns a tuple of the two values that consists of the quotient and remainder\n",
    "- You can also use tuple assignment to store the elements seperately\n",
    "\n",
    "#### Variable-length argument tuples\n",
    "- when parameters begin with \"*\" they gather all of the arguments into a tuple"
   ]
  },
  {
   "cell_type": "markdown",
   "metadata": {
    "is_question": true,
    "problem": "Exercise 12.1"
   },
   "source": [
    "### Exercise 1  \n",
    "\n",
    "Many of the built-in functions use variable-length argument tuples. For example, `max` and `min` can take any number of arguments:\n",
    "\n",
    "```\n",
    ">>> max(1,2,3)\n",
    "3\n",
    "```\n",
    "\n",
    "But `sum` does not.\n",
    "\n",
    "```\n",
    ">>> sum(1,2,3)\n",
    "TypeError: sum expected at most 2 arguments, got 3\n",
    "```\n",
    "\n",
    "Write a function called ```sumall``` that takes any number of arguments and returns their sum. \n",
    "\n",
    "Write unit tests for your function. Do I actually need to keep saying this? Let's assume it's always a good idea :)"
   ]
  },
  {
   "cell_type": "code",
   "execution_count": 14,
   "metadata": {
    "collapsed": false,
    "solution": "Exercise 12.1"
   },
   "outputs": [
    {
     "data": {
      "text/plain": [
       "10"
      ]
     },
     "execution_count": 14,
     "metadata": {},
     "output_type": "execute_result"
    }
   ],
   "source": [
    "def sumall(*args):\n",
    "    for c in args:\n",
    "        c += c\n",
    "    return c\n",
    "\n",
    "sumall(1, 2, 3, 4, 5)"
   ]
  },
  {
   "cell_type": "markdown",
   "metadata": {},
   "source": [
    "If you're interested in more flexible ways to pass arguments to functions, check out the [Python tutorial](https://docs.python.org/2/tutorial/controlflow.html#more-on-defining-functions). For instance, you can also use keyword arguments, which are collected into a dictionary just like `*` gathers variable numbers of positional arguments into a tuple.\n",
    "\n",
    "This pattern is very common for defining functions with complex optional behaviors in Python, and you will often see definitions like:\n",
    "\n",
    "```\n",
    "def my_func(required_argument1, *arguments, **keywords):\n",
    "    ...\n",
    "```"
   ]
  },
  {
   "cell_type": "markdown",
   "metadata": {},
   "source": [
    "#### Lists and tuples\n",
    "- *zip* can take a string and a list and zip them into a list that contains tuples that match the respective elements of the string and lists\n",
    "- it can also take two two strings\n",
    "- makes it easier to traverse two (or more) sequences at once\n",
    "- *enumerate* takes a string an makes a list of tuples of those sting elements and their indices\n",
    "\n",
    "#### Dictionaries and tuples\n",
    "- dictionary.items() returns a tuple of all key-value pairs\n",
    "- forming a dictionary from a zipped string and range is concise\n",
    "\n",
    "#### Comparing tuples\n",
    "- when comparing, it only checks the first value. If the first one ties, it moves onto the second one to check, and so on. Once it finds something in the affrimative or negative and returns that\n",
    "- DSU - Decorate, Sequence, Undecorate\n",
    "    - decorate a sequence by building a list of tuples with 1+ sort keys preceding the elements from the sequence\n",
    "    - sort the list of tuples\n",
    "    - undecorate by extracting the sorted elements of the sequence\n",
    "    "
   ]
  },
  {
   "cell_type": "code",
   "execution_count": 18,
   "metadata": {
    "collapsed": false
   },
   "outputs": [
    {
     "data": {
      "text/plain": [
       "['purple', 'game', 'dogs', 'fun']"
      ]
     },
     "execution_count": 18,
     "metadata": {},
     "output_type": "execute_result"
    }
   ],
   "source": [
    "def sort_by_length(words):\n",
    "    t = []\n",
    "    for word in words:\n",
    "        t.append((len(word), word))\n",
    "    \n",
    "    t.sort(reverse=True)\n",
    "    \n",
    "    res = []\n",
    "    for length, word in t:\n",
    "        res.append(word)\n",
    "    return res\n",
    "\n",
    "sort_by_length(('purple', 'game', 'fun', 'dogs'))"
   ]
  },
  {
   "cell_type": "markdown",
   "metadata": {
    "is_question": true,
    "problem": "Exercise 12 sort"
   },
   "source": [
    "### Exercise\n",
    "\n",
    "Write a function `sort_by_last_letter` that takes a list of words and returns a new list with the words sorted alphabetically by the _last letter_ in the word. Hint: use the **Decorate, Sort, Undecorate** pattern. Write unit tests for your function."
   ]
  },
  {
   "cell_type": "code",
   "execution_count": 26,
   "metadata": {
    "collapsed": false,
    "solution": "Exercise 12 sort"
   },
   "outputs": [],
   "source": [
    "\"\"\"\n",
    "    >>> sort_by_last_letter('purple', 'game', 'fun', 'dogs')\n",
    "    ['game', 'purple', 'fun', 'dogs']\n",
    "    \n",
    "    >>> sort_by_last_letter('ab', 'bfd', 'adfv', 'wretfbaw')\n",
    "    ['ab', 'bfd', 'adfv', 'wretfbaw']\n",
    "\n",
    "\"\"\"\n",
    "\n",
    "def sort_by_last_letter(*words):\n",
    "    t = []\n",
    "    for word in words:\n",
    "        t.append((word[-1], word))\n",
    "        \n",
    "    t.sort()\n",
    "    \n",
    "    res = []\n",
    "    for last_letter, word in t:\n",
    "        res.append(word)\n",
    "    return res\n",
    "\n",
    "if __name__ == \"__main__\":\n",
    "    import doctest"
   ]
  },
  {
   "cell_type": "markdown",
   "metadata": {},
   "source": [
    "**Quick check** Give an example of when you might use each sequence type:\n",
    "\n",
    "- tuple\n",
    "\n",
    "- list\n",
    "\n",
    "- string"
   ]
  },
  {
   "cell_type": "markdown",
   "metadata": {},
   "source": [
    "tuple - when you want to traverse multiple strings\n",
    "list - when you want something mutable\n",
    "string - when you want to put something in a list"
   ]
  },
  {
   "cell_type": "markdown",
   "metadata": {},
   "source": [
    "#### Sequences of sequences\n",
    "- Tuples:\n",
    "    - in a return statement it can be easier to create a tuple\n",
    "    - if you want to use a sequence as a dictionary key\n",
    "    - when passsing a sequence as an argument to a function, using tuples can reduce the potential of unexpected behavior\n"
   ]
  },
  {
   "cell_type": "markdown",
   "metadata": {
    "is_question": true,
    "problem": "Exercise 12.3"
   },
   "source": [
    "### Exercise 3  \n",
    "\n",
    "Write a function called `most_frequent` that takes a string and prints the letters in decreasing order of frequency. Find text samples from several different languages and see how letter frequency varies between languages. Compare your results with the tables at http://en.wikipedia.org/wiki/Letter_frequencies. \n",
    "\n",
    "Allen's solution (try it on your own first): http://thinkpython.com/code/most_frequent.py. "
   ]
  },
  {
   "cell_type": "code",
   "execution_count": 35,
   "metadata": {
    "collapsed": false,
    "solution": "Exercise 12.3"
   },
   "outputs": [
    {
     "name": "stdout",
     "output_type": "stream",
     "text": [
      "\r\n",
      "\n",
      "\n",
      "e\n",
      "s\n",
      "i\n",
      "a\n",
      "r\n",
      "n\n",
      "t\n",
      "o\n",
      "l\n",
      "c\n",
      "d\n",
      "u\n",
      "g\n",
      "p\n",
      "m\n",
      "h\n",
      "b\n",
      "y\n",
      "f\n",
      "v\n",
      "k\n",
      "w\n",
      "z\n",
      "x\n",
      "j\n",
      "q\n",
      "'\n"
     ]
    }
   ],
   "source": [
    "import random\n",
    "\n",
    "def histogram(s):\n",
    "    d = dict()\n",
    "    for c in s:\n",
    "        d[c] = d.get(c, 0) + 1\n",
    "    return d\n",
    "\n",
    "def most_frequent(s):\n",
    "    hist = histogram(s)\n",
    "    \n",
    "    t = []\n",
    "    for element,freq in hist.items():\n",
    "        t.append((freq,element))\n",
    "        \n",
    "    t.sort(reverse=True)\n",
    "    \n",
    "    res = []\n",
    "    for freq, element in t:\n",
    "        res.append(element)\n",
    "    return res\n",
    "\n",
    "def read_file(filename):\n",
    "    \"\"\"Returns the contents of a file as a string.\"\"\"\n",
    "    return open(filename).read()\n",
    "\n",
    "if __name__ == '__main__':\n",
    "    s = read_file('wordsEn.txt')\n",
    "    t = most_frequent(s)\n",
    "    for x in t:\n",
    "        print x"
   ]
  },
  {
   "cell_type": "markdown",
   "metadata": {
    "is_question": true,
    "problem": "Exercise 12.6"
   },
   "source": [
    "### Challenge: Exercise 6   (optional)\n",
    "\n",
    "From a [Car Talk Puzzler](http://www.cartalk.com/content/puzzlers):\n",
    "\n",
    "What is the longest English word, that remains a valid English word, as you remove its letters one at a time?\n",
    "\n",
    "Now, letters can be removed from either end, or the middle, but you can’t rearrange any of the letters. Every time you drop a letter, you wind up with another English word. If you do that, you’re eventually going to wind up with one letter and that too is going to be an English word—one that’s found in the dictionary. I want to know what’s the longest word and how many letters does it have?\n",
    "\n",
    "I’m going to give you a little modest example: Sprite. Ok? You start off with sprite, you take a letter off, one from the interior of the word, take the r away, and we’re left with the word spite, then we take the e off the end, we’re left with spit, we take the s off, we’re left with pit, it, and I. \n",
    "\n",
    "Write a program to find all words that can be reduced in this way, and then find the longest one.\n",
    "\n",
    "This exercise is a little more challenging than most, so here are some suggestions:\n",
    "\n",
    "- You might want to write a function that takes a word and computes a list of all the words that can be formed by removing one letter. These are the “children” of the word.\n",
    "- Recursively, a word is reducible if any of its children are reducible. As a base case, you can consider the empty string reducible.\n",
    "- The word list from [Chapter 9.1](http://www.greenteapress.com/thinkpython/html/thinkpython010.html) Exercise 1 doesn’t contain single letter words. So you might want to add “I”, “a”, and the empty string.\n",
    "- To improve the performance of your program, you might want to memoize the words that are known to be reducible.\n",
    "\n",
    "Allen's solution: http://thinkpython.com/code/reducible.py."
   ]
  },
  {
   "cell_type": "code",
   "execution_count": null,
   "metadata": {
    "collapsed": true,
    "solution": "Exercise 12.6"
   },
   "outputs": [],
   "source": []
  },
  {
   "cell_type": "markdown",
   "metadata": {
    "is_question": true,
    "problem": "Feedback"
   },
   "source": [
    "## Reading Journal feedback\n",
    "\n",
    "Have any comments on this Reading Journal? Feel free to leave them below and we'll read them when you submit your journal entry. This could include suggestions to improve the exercises, topics you'd like to see covered in class next time, or other feedback.\n",
    "\n",
    "If you have Python questions or run into problems while completing the reading, you should post them to Piazza instead so you can get a quick response before your journal is submitted."
   ]
  },
  {
   "cell_type": "markdown",
   "metadata": {
    "feedback_response": true,
    "solution": "Feedback"
   },
   "source": [
    " "
   ]
  }
 ],
 "metadata": {
  "celltoolbar": "Edit Metadata",
  "kernelspec": {
   "display_name": "Python 2",
   "language": "python",
   "name": "python2"
  },
  "language_info": {
   "codemirror_mode": {
    "name": "ipython",
    "version": 2
   },
   "file_extension": ".py",
   "mimetype": "text/x-python",
   "name": "python",
   "nbconvert_exporter": "python",
   "pygments_lexer": "ipython2",
   "version": "2.7.6"
  }
 },
 "nbformat": 4,
 "nbformat_minor": 0
}
