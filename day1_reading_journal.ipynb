{
 "cells": [
  {
   "cell_type": "markdown",
   "metadata": {},
   "source": [
    "# Day 1 Reading Journal\n",
    "\n",
    "Hi everyone.  These are the exercises for the first set of readings from ThinkPython.  While this journal consists of several required exercises, it is meant to encourage active reading more generally.  You should use this journal to take detailed notes, catalog questions, and explore the content from ThinkPython deeply.\n",
    "\n",
    "For more information on using the Jupyter notebook, check out the documentation [here](http://nbviewer.jupyter.org/github/jupyter/notebook/blob/master/docs/source/examples/Notebook/Examples%20and%20Tutorials%20Index.ipynb).  Additionally, in order to write text in this document, you will be making use of markdown cells. A handy cheatsheet for markdown is available [here](https://github.com/adam-p/markdown-here/wiki/Markdown-Cheatsheet)."
   ]
  },
  {
   "cell_type": "markdown",
   "metadata": {},
   "source": [
    "## Chapter 1 - The Way of the Program\n",
    "\n",
    "Note: the exercise numbers below match up with the reading for ease of cross referencing."
   ]
  },
  {
   "cell_type": "markdown",
   "metadata": {},
   "source": [
    "SECTION 1 The Python programming language\n",
    "\n",
    "High-level languages\n",
    "1. Python, C, C++, Perl, Java\n",
    "2. Easy to progeam, less time to write, shorter, easier to read, more likely to be correct, portable (run on different kinds of compyters)\n",
    "\n",
    "Low-level languages\n",
    "1. \"machine languages\" or \"assembly languages\"\n",
    "2. Computers can read, shorter processing time\n",
    "\n",
    "Interpreters: reads high-level program, executes it. Python is an interpreter language\n",
    "- interactive mode: type python, interpreter displays result\n",
    "- triple chevron (>>>): indicates that interpreter is ready\n",
    "- scripts: where code is stored, can be executed in different ways depending on the command window\n",
    "Compilers: reads program, translates it completely, executes it."
   ]
  },
  {
   "cell_type": "markdown",
   "metadata": {},
   "source": [
    "SECTION 2 What is a program?\n",
    "\n",
    "Program: sequence of instructions, specify how to perform a computation\n",
    "\n",
    "Input: get ddata from keyboard, a file, other device\n",
    "\n",
    "Output: display data on screen or send to a file or other device\n",
    "\n",
    "Math: perform basic operations (addition, mulitplication)\n",
    "\n",
    "Conditional execution: check for certaincondition, execute appropriate \n",
    "code\n",
    "\n",
    "Repetition: perform some action repeatedly, usually with some variation"
   ]
  },
  {
   "cell_type": "markdown",
   "metadata": {},
   "source": [
    "SECTION 3.1 Syntax Errors\n",
    "\n",
    "Issues with the way the program is written. There must be () not ).\n",
    "\n",
    "If there is a syntax error, python will display and error message and quit\n",
    "\n",
    "SECTION 3.2 Runtime Errors\n",
    "\n",
    "Don't appear until after the program has started running. Also called exceptions\n",
    "\n",
    "SECTION 3.3 Semantic Errors\n",
    "\n",
    "THe program will run, but it will not be what you wanted it to run\n",
    "\n",
    "SECTION 3.4 Experimental Debugging\n",
    "\n",
    "It's important. Do it a lot"
   ]
  },
  {
   "cell_type": "markdown",
   "metadata": {},
   "source": [
    "SECTION 4 Formal and natural languagaes\n",
    "\n",
    "Natural language: languages people speak, evolved naturally\n",
    "\n",
    "Formal languages: languages made for a specific purpose. Math, programming languages.\n",
    "- strict syntax\n",
    "- parsing: determining the structuce of the sentence\n",
    "\n",
    "Ambiguity: formal languages are almost completely unambiguous, regardless of context\n",
    "\n",
    "Redundancy: formal languages are more concise\n",
    "\n",
    "Literalness: formal languages are super literal\n",
    "\n",
    "Poetry: words are used for sounds in natural languages, in formal languages, words are used solely for meaning\n",
    "\n",
    "Prose: meaning of words is important, but their structuce is more important. More like formal language than poetry, but still often ambiguous\n",
    "\n",
    "Programs: unambiguougs, literal, can be understoon entirely by the analysis of tokens and structure\n",
    "\n",
    "\n"
   ]
  },
  {
   "cell_type": "markdown",
   "metadata": {},
   "source": [
    "SECTION 5 The first program"
   ]
  },
  {
   "cell_type": "code",
   "execution_count": 17,
   "metadata": {
    "collapsed": false
   },
   "outputs": [
    {
     "name": "stdout",
     "output_type": "stream",
     "text": [
      "Hello World\n"
     ]
    }
   ],
   "source": [
    "print 'Hello World'"
   ]
  },
  {
   "cell_type": "markdown",
   "metadata": {},
   "source": [
    "SECTION 6 Debugging\n",
    "\n",
    "Active reading is good for debugging\n",
    "\n",
    "Keep it experimental\n",
    "\n",
    "Prepare for challenges"
   ]
  },
  {
   "cell_type": "markdown",
   "metadata": {},
   "source": [
    "\n",
    "### Exercise 3\n",
    "\n",
    "Type `help()` to start the online help utility. Or you can type help('print') to get information about the print statement.  You should type `q` and then hit `enter` in the text box to exit the help utility. \n",
    "\n",
    "Note: this exercise is pretty simple (and there's not much to put in the box)!  We just want to make sure that you have tried out this super-handy feature of Python!"
   ]
  },
  {
   "cell_type": "code",
   "execution_count": 18,
   "metadata": {
    "collapsed": false
   },
   "outputs": [
    {
     "name": "stdout",
     "output_type": "stream",
     "text": [
      "The ``print`` statement\n",
      "***********************\n",
      "\n",
      "   print_stmt ::= \"print\" ([expression (\",\" expression)* [\",\"]]\n",
      "                  | \">>\" expression [(\",\" expression)+ [\",\"]])\n",
      "\n",
      "``print`` evaluates each expression in turn and writes the resulting\n",
      "object to standard output (see below).  If an object is not a string,\n",
      "it is first converted to a string using the rules for string\n",
      "conversions.  The (resulting or original) string is then written.  A\n",
      "space is written before each object is (converted and) written, unless\n",
      "the output system believes it is positioned at the beginning of a\n",
      "line.  This is the case (1) when no characters have yet been written\n",
      "to standard output, (2) when the last character written to standard\n",
      "output is a whitespace character except ``' '``, or (3) when the last\n",
      "write operation on standard output was not a ``print`` statement. (In\n",
      "some cases it may be functional to write an empty string to standard\n",
      "output for this reason.)\n",
      "\n",
      "Note: Objects which act like file objects but which are not the built-in\n",
      "  file objects often do not properly emulate this aspect of the file\n",
      "  object's behavior, so it is best not to rely on this.\n",
      "\n",
      "A ``'\\n'`` character is written at the end, unless the ``print``\n",
      "statement ends with a comma.  This is the only action if the statement\n",
      "contains just the keyword ``print``.\n",
      "\n",
      "Standard output is defined as the file object named ``stdout`` in the\n",
      "built-in module ``sys``.  If no such object exists, or if it does not\n",
      "have a ``write()`` method, a ``RuntimeError`` exception is raised.\n",
      "\n",
      "``print`` also has an extended form, defined by the second portion of\n",
      "the syntax described above. This form is sometimes referred to as\n",
      "\"``print`` chevron.\" In this form, the first expression after the\n",
      "``>>`` must evaluate to a \"file-like\" object, specifically an object\n",
      "that has a ``write()`` method as described above.  With this extended\n",
      "form, the subsequent expressions are printed to this file object.  If\n",
      "the first expression evaluates to ``None``, then ``sys.stdout`` is\n",
      "used as the file for output.\n",
      "\n"
     ]
    }
   ],
   "source": [
    "help('print')\n"
   ]
  },
  {
   "cell_type": "markdown",
   "metadata": {},
   "source": [
    "### Exercise 4  \n",
    "\n",
    "Start the Python interpreter and use it as a calculator. Python’s syntax for math operations is almost the same as standard mathematical notation. For example, the symbols +, - and / denote addition, subtraction and division, as you would expect. The symbol for multiplication is *.\n",
    "\n",
    "If you run a 10 kilometer race in 43 minutes 30 seconds, what is your average time per mile? What is your average speed in miles per hour? (Hint: there are 1.61 kilometers in a mile). "
   ]
  },
  {
   "cell_type": "code",
   "execution_count": 19,
   "metadata": {
    "collapsed": false
   },
   "outputs": [
    {
     "data": {
      "text/plain": [
       "6.211180124223602"
      ]
     },
     "execution_count": 19,
     "metadata": {},
     "output_type": "execute_result"
    }
   ],
   "source": [
    "10/1.61\n"
   ]
  },
  {
   "cell_type": "code",
   "execution_count": 20,
   "metadata": {
    "collapsed": false
   },
   "outputs": [
    {
     "data": {
      "text/plain": [
       "7.003500000000001"
      ]
     },
     "execution_count": 20,
     "metadata": {},
     "output_type": "execute_result"
    }
   ],
   "source": [
    "43.5/6.211180124223602"
   ]
  },
  {
   "cell_type": "code",
   "execution_count": 21,
   "metadata": {
    "collapsed": false
   },
   "outputs": [
    {
     "data": {
      "text/plain": [
       "8.567144998929106"
      ]
     },
     "execution_count": 21,
     "metadata": {},
     "output_type": "execute_result"
    }
   ],
   "source": [
    "60/7.003500000000001"
   ]
  },
  {
   "cell_type": "markdown",
   "metadata": {},
   "source": [
    "- Average time per mile = 7 minutes\n",
    "- Average speed in miles per hour = 8.567144998929106"
   ]
  },
  {
   "cell_type": "markdown",
   "metadata": {},
   "source": [
    "## Chapter 2 - Variables, expression and statements"
   ]
  },
  {
   "cell_type": "markdown",
   "metadata": {},
   "source": [
    "#### SECTION 1 Values and Types\n",
    "- string: a string of letter containg within quotation marks\n",
    "- integer: an integer (don't use commas with large integers, they will be interpreted as a series of integers instead of one large one)\n",
    "- floating-point: numbers with a decimel\n",
    "\n",
    "#### SECTION 2 Variables\n",
    "- variable: a name that refers to a value\n",
    "- assignment statement: creates new variable and give them values\n",
    "- state diagram: a way of writing a variable's value\n",
    "\n",
    "#### SECTION 3 Variable names and keywords\n",
    "- meaningful variable names document what the variable is used for\n",
    "- illegal names begin with a number, contain special characters, or are already used by python\n",
    "\n",
    "#### SECTION 4 Operators and operands\n",
    "- operators: special symbols, represent computations\n",
    "- operands: the values the operator is applied to\n",
    "- +, -, asterisk, /, and double asterisk: perform addition, subtraction, multiplication, division, exponentiation\n",
    "- if both operands are integers, python performs floor dividion, meaning the decimal truncated\n",
    "- if you want floating-point, make either operands a floating-point number\n",
    "\n",
    "#### SECTION 5 Expressions and statements\n",
    "- expression: combination of values, variables, statements (x + 7)\n",
    "- statement: unit of code the interpreter can execute. Has no values\n",
    "\n",
    "#### SECTION 6 Interactive mode and script mode\n",
    "- interactive: produces output as you go\n",
    "- script: produces output at the end of the whole thing\n",
    "\n",
    "#### SECTION 7 Order of operations\n",
    "- python follows the rules of precedence of math, PEMDAS\n",
    "- use parentheses to make the order obvious\n",
    "\n",
    "#### String operations\n",
    "- no mathematical operations\n",
    "- concatenation: using + or '*' to connect strings end-to-end (+ adds them and '*' multiplies)\n",
    "\n",
    "#### Coments\n",
    "- note, they use '#' to start\n",
    "- useful for documenting non-obvious portions of the code, like units\n",
    "\n",
    "#### Debugging\n",
    "- syntax error messages are not very useful\n",
    "- runtime errors are usually trying to use a variable before it it defined\n",
    "- remember PEMDAS"
   ]
  },
  {
   "cell_type": "markdown",
   "metadata": {},
   "source": [
    "### Exercise 2  \n",
    "\n",
    "Assume that we execute the following assignment statements:\n",
    "\n",
    "width = 17\n",
    "height = 12.0\n",
    "delimiter = '.'\n",
    "\n",
    "For each of the following expressions, write the value of the expression and the type (of the value of the expression).\n",
    "\n",
    "1. `width/2`\n",
    "2. `width/2.0`\n",
    "3. `height/3`\n",
    "4. `1 + 2 * 5`\n",
    "5. `delimiter * 5`\n",
    "\n",
    "Please use the following markdown cell to provide your answer."
   ]
  },
  {
   "cell_type": "markdown",
   "metadata": {},
   "source": [
    "1. 8\n",
    "2. 8.5\n",
    "3. 4.0\n",
    "4. 11\n",
    "5. ....."
   ]
  },
  {
   "cell_type": "markdown",
   "metadata": {},
   "source": [
    "### Exercise 3  \n",
    "\n",
    "Practice using the Python interpreter as a calculator.  For each of these provide Python code that computes each answer.\n",
    "\n",
    "    \n"
   ]
  },
  {
   "cell_type": "markdown",
   "metadata": {},
   "source": [
    "The volume of a sphere with radius r is 4/3 $\\pi r^3$. What is the volume of a sphere with radius 5? Hint: 392.7 is wrong!"
   ]
  },
  {
   "cell_type": "code",
   "execution_count": 22,
   "metadata": {
    "collapsed": false
   },
   "outputs": [
    {
     "name": "stdout",
     "output_type": "stream",
     "text": [
      "523.598775598\n"
     ]
    }
   ],
   "source": [
    "radius = 5\n",
    "pi = 3.1415926535897932\n",
    "volume = ((4)*pi*(radius**3))/3\n",
    "print volume"
   ]
  },
  {
   "cell_type": "markdown",
   "metadata": {},
   "source": [
    "Suppose the cover price of a book is \\$24.95, but bookstores get a 40% discount. Shipping costs \\$3 for the first copy and 75 cents for each additional copy. What is the total wholesale cost for 60 copies?"
   ]
  },
  {
   "cell_type": "code",
   "execution_count": 23,
   "metadata": {
    "collapsed": false
   },
   "outputs": [
    {
     "name": "stdout",
     "output_type": "stream",
     "text": [
      "945.45\n"
     ]
    }
   ],
   "source": [
    "orig_book = 24.95\n",
    "discount = .4\n",
    "first_book_shipping = 3\n",
    "other_book_shipping = .75\n",
    "shipping = first_book_shipping + other_book_shipping*59\n",
    "sixty_copies = 60*(orig_book*(1-discount)) + shipping\n",
    "print sixty_copies"
   ]
  },
  {
   "cell_type": "markdown",
   "metadata": {},
   "source": [
    "If I leave my house at 6:52 am and run 1 mile at an easy pace (8:15 per mile), then 3 miles at tempo (7:12 per mile) and 1 mile at easy pace again, what time do I get home for breakfast? "
   ]
  },
  {
   "cell_type": "code",
   "execution_count": 24,
   "metadata": {
    "collapsed": false
   },
   "outputs": [
    {
     "name": "stdout",
     "output_type": "stream",
     "text": [
      "7.301\n"
     ]
    }
   ],
   "source": [
    "easy_mile = 8.25 #minutes\n",
    "tempo = 7.2 #minutes\n",
    "run_length = 3*tempo + 2*easy_mile\n",
    "time_home = 7.00 + (run_length - 8)*.01\n",
    "print time_home"
   ]
  },
  {
   "cell_type": "markdown",
   "metadata": {},
   "source": [
    "Time home for breakfast = 7.30"
   ]
  },
  {
   "cell_type": "markdown",
   "metadata": {},
   "source": [
    "## Chapter 3 - Functions"
   ]
  },
  {
   "cell_type": "markdown",
   "metadata": {},
   "source": [
    "#### SECTION 1 Function calls\n",
    "- function: a named sequence of statements, performs a computation\n",
    "- function(argument) = return value\n",
    "\n",
    "#### SECTION 2 Type conversion functions\n",
    "- int(): makes integers\n",
    "- float(): makes floating-point numbers\n",
    "- str(): makes a string\n",
    "\n",
    "#### SECTION 3 Math functions\n",
    "- module: file that contains collection of related functions, must be imported first\n",
    "- the math module has useful math operations\n",
    "- to access a function use dot notaion: module.function\n",
    "\n",
    "#### SECTION 4 Composition\n",
    "- programs are partially useful for their ability to compose functions and fucntino calls together\n",
    "- left side must be variable name\n",
    "\n",
    "#### SECTION 5 Adding new funcitons\n",
    "- function definition: specifies name of new function and sequence of statements executed when funciton is called\n",
    "- Example:\n",
    "        def print_lyrics():\n",
    "            print \"I'm a lumberjack, and I'm okay.\"\n",
    "            print \"I sleep all night and I work all day.\"\n",
    "- function names have the same rules as variable names\n",
    "- empty () means there are no arguments\n",
    "- first line of function definition is header, rest is body\n",
    "- header must end in a colon\n",
    "- when ending a function definition in interactive mode, there much be an empty line\n",
    "- you can use defined functions inside of other functions that are being defined\n",
    "\n",
    "#### SECTION 6 Definition and uses\n",
    "- functions must be defined, executed, and then called\n",
    "\n",
    "#### SECTION 7 Flow of execution\n",
    "- flow of execution: order in which statements are executed, statemetns are executed one at a time from top to bottom\n",
    "- functions are like detours in execution\n",
    "\n",
    "#### SECTION 8 Parameters and arguments\n",
    "- you can pass arguments into functions that you create and that are pre-definied\n",
    "- name of argument passed through and the name of the parameter do not have to be related\n",
    "\n",
    "#### SECTION 9 Variables and paramenters are loval\n",
    "- local: when a variable is created inside of a function it only exists inside of it\n",
    "\n",
    "#### SECTION 10 Stack diagrams\n",
    "- useful to keep track of variables and which function they belong to\n",
    "- frame: represents each function\n",
    "- order in stack represents which function called which\n",
    "- traceback: what program file the error occurred in, what line, and what functions were executing at the time\n",
    "\n",
    "#### SECTION 11 Fruitful functions and void functions\n",
    "- fruitful functions: yield results\n",
    "- void funtions: perform action, don't return a value\n",
    "\n",
    "#### SECTION 12 Why functions?\n",
    "- breaks things into chunks which makes reading and debugging easier\n",
    "- eliminates repetitive code\n",
    "- can be reused\n",
    "\n",
    "#### SECTION 13 Importing with from\n",
    "- instead of importing an entire module, you can import just what you want by saying \"from module import argument\"\n",
    "\n",
    "#### SECTION 14 Debugging\n",
    "- tabs and spaces are helpful for debugging and make it look prettier\n",
    "- some editors are weird about this"
   ]
  },
  {
   "cell_type": "markdown",
   "metadata": {},
   "source": [
    "### Exercise 3\n",
    "\n",
    "Python provides a built-in function called len that returns the length of a string, so the value of len('allen') is 5.\n",
    "Write a function named right_justify that takes a string named s as a parameter and prints the string with enough leading spaces so that the last letter of the string is in column 70 of the display.\n",
    "\n",
    "```\n",
    ">>> right_justify('allen')\n",
    "                                                                 allen```"
   ]
  },
  {
   "cell_type": "code",
   "execution_count": 9,
   "metadata": {
    "collapsed": false,
    "scrolled": true
   },
   "outputs": [
    {
     "name": "stdout",
     "output_type": "stream",
     "text": [
      "                                                                 allen\n"
     ]
    }
   ],
   "source": [
    "def right_justify(s):\n",
    "    spacing = ' ' * (70 - len(s))\n",
    "    print(spacing + s)\n",
    "    \n",
    "    \n",
    "    \n",
    "right_justify('allen')"
   ]
  },
  {
   "cell_type": "markdown",
   "metadata": {},
   "source": [
    "### Exercise 5\n",
    "\n",
    "This exercise can be done using only the statements and other features we have learned so far.\n",
    "\n",
    "(a) Write a function that draws a grid like the following:\n",
    "```\n",
    "+ - - - - + - - - - +\n",
    "|         |         |\n",
    "|         |         |\n",
    "|         |         |\n",
    "|         |         |\n",
    "+ - - - - + - - - - +\n",
    "|         |         |\n",
    "|         |         |\n",
    "|         |         |\n",
    "|         |         |\n",
    "+ - - - - + - - - - +\n",
    "```\n",
    "**Hint:** to print more than one value on a line, you can print a comma-separated sequence:\n",
    "print '+', '-'\n",
    "If the sequence ends with a comma, Python leaves the line unfinished, so the value printed next appears on the same line.\n",
    "print '+', \n",
    "print '-'\n",
    "The output of these statements is '+ -'.\n",
    "A print statement all by itself ends the current line and goes to the next line."
   ]
  },
  {
   "cell_type": "code",
   "execution_count": 11,
   "metadata": {
    "collapsed": false
   },
   "outputs": [
    {
     "name": "stdout",
     "output_type": "stream",
     "text": [
      "+  - - - -  +  - - - -  +\n",
      "|           |           |\n",
      "|           |           |\n",
      "|           |           |\n",
      "|           |           |\n",
      "+  - - - -  +  - - - -  +\n",
      "|           |           |\n",
      "|           |           |\n",
      "|           |           |\n",
      "|           |           |\n",
      "+  - - - -  +  - - - -  +\n"
     ]
    }
   ],
   "source": [
    "def horizontal():\n",
    "    print '+ ', '- ' * 4, '+ ', '- ' * 4, '+' \n",
    "def vertical():\n",
    "    print '|',' ' * 9, '|', ' ' * 9, '|'\n",
    "\n",
    "    \n",
    "horizontal()\n",
    "vertical()\n",
    "vertical()\n",
    "vertical()\n",
    "vertical()\n",
    "horizontal()\n",
    "vertical()\n",
    "vertical()\n",
    "vertical()\n",
    "vertical()\n",
    "horizontal()"
   ]
  },
  {
   "cell_type": "markdown",
   "metadata": {},
   "source": [
    "(b) Write a function that draws a similar grid with four rows and four columns."
   ]
  },
  {
   "cell_type": "code",
   "execution_count": 24,
   "metadata": {
    "collapsed": false
   },
   "outputs": [
    {
     "name": "stdout",
     "output_type": "stream",
     "text": [
      "+  - - - -  +  - - - -  +  - - - -  +  - - - -  +\n",
      "|           |           |           |           |\n",
      "|           |           |           |           |\n",
      "|           |           |           |           |\n",
      "|           |           |           |           |\n",
      "+  - - - -  +  - - - -  +  - - - -  +  - - - -  +\n",
      "|           |           |           |           |\n",
      "|           |           |           |           |\n",
      "|           |           |           |           |\n",
      "|           |           |           |           |\n",
      "+  - - - -  +  - - - -  +  - - - -  +  - - - -  +\n",
      "|           |           |           |           |\n",
      "|           |           |           |           |\n",
      "|           |           |           |           |\n",
      "|           |           |           |           |\n",
      "+  - - - -  +  - - - -  +  - - - -  +  - - - -  +\n",
      "|           |           |           |           |\n",
      "|           |           |           |           |\n",
      "|           |           |           |           |\n",
      "|           |           |           |           |\n",
      "+  - - - -  +  - - - -  +  - - - -  +  - - - -  +\n"
     ]
    }
   ],
   "source": [
    "def horizontal():\n",
    "    print '+ ', '- ' * 4, '+ ', '- ' * 4, '+ ', '- ' * 4, '+ ', '- ' * 4, '+' \n",
    "def vertical():\n",
    "    print '|',' ' * 9, '|', ' ' * 9, '|',' ' * 9, '|', ' ' * 9, '|'\n",
    "def full_vertical():\n",
    "    vertical()\n",
    "    vertical()\n",
    "    vertical()\n",
    "    vertical()\n",
    "    \n",
    "horizontal()\n",
    "full_vertical()\n",
    "horizontal()\n",
    "full_vertical()\n",
    "horizontal()\n",
    "full_vertical()\n",
    "horizontal()\n",
    "full_vertical()\n",
    "horizontal()"
   ]
  },
  {
   "cell_type": "code",
   "execution_count": null,
   "metadata": {
    "collapsed": true
   },
   "outputs": [],
   "source": [
    "def grid(x, y):\n",
    "    top_segment = ('+ ' + '- ' * 4) + '\\n' #creates the top line of the code\n",
    "    inner_segment = '|' + ' ' * 9 + '\\n' #creates the inner line\n",
    "    line = top_segment * x + '+' + (inner_segment * x + '|') * 4\n",
    "    print line * y\n",
    "\n",
    "\n"
   ]
  },
  {
   "cell_type": "markdown",
   "metadata": {},
   "source": [
    "******** are the empty spaces the cells???? that's what I went with"
   ]
  },
  {
   "cell_type": "markdown",
   "metadata": {},
   "source": [
    "## Chapter 5.1 - 5.7 Conditionals"
   ]
  },
  {
   "cell_type": "markdown",
   "metadata": {},
   "source": [
    "#### Modulus operator\n",
    "- work on integer and yields the remainder when the 1st operand is divided buy the second\n",
    "- represented by %\n",
    "- same syntax as other operators\n",
    "- finds the remainder when two numbers are divided (if it equals 0, the two numbers are divisible\n",
    "\n",
    "#### Boolean expressions\n",
    "- expression that is either true or false\n",
    "- ==, it is a 'type' like int or float\n",
    "- relational operators:, != not equal, the others are as expected, > or < comes before =\n",
    "\n",
    "#### Logial operators\n",
    "- and: only if both are true\n",
    "- or: if either are true\n",
    "- not: negates the boolean expression (is only true if the expression is false)\n",
    "- any nonzero number is interpreted as true\n",
    "\n",
    "#### Conditional execution\n",
    "- conditional statements: checks conditions and changes the behavior of a program accordingly\n",
    "- if statement: what is after the 'if' is the condition\n",
    "- if you don't have anything for the body, use pass\n",
    "\n",
    "#### Alternative execution\n",
    "- if/else statement\n",
    "- else statement is a 'branch'\n",
    "\n",
    "#### Chained conditionals\n",
    "- if/elif/else statements\n",
    "- there must be at most one else statement at the very end\n",
    "- there can be as many elif statements as you want\n",
    "\n",
    "#### Nested conditionals\n",
    "- must fufill both if statements\n"
   ]
  },
  {
   "cell_type": "markdown",
   "metadata": {},
   "source": [
    "### Exercise 3  \n",
    "\n",
    "Fermat’s Last Theorem says that there are no positive integers a, b, and c such that $a^n + b^n = c^n$ for any values of n greater than 2.\n",
    "\n",
    "(a) Write a function named `check_fermat` that takes four parameters—a, b, c and n—and that checks to see if Fermat’s theorem holds. If n is greater than 2 and it turns out to be true that\n",
    "$a^n + b^n = c^n$ the program should print, \"Holy smokes, Fermat was wrong!\" Otherwise the program should print, \"No, that doesn’t work.\""
   ]
  },
  {
   "cell_type": "code",
   "execution_count": 30,
   "metadata": {
    "collapsed": false
   },
   "outputs": [],
   "source": [
    "def check_fermat(a, b, c, n):\n",
    "    if n>2 and a^n + b^n == c^n:\n",
    "        print 'Holy smokes, Fermal was wrong'\n",
    "    else:\n",
    "        print \"No, that doesn't work\""
   ]
  },
  {
   "cell_type": "markdown",
   "metadata": {},
   "source": [
    "(b) Write a function that prompts the user to input values for a, b, c and n, converts them to integers, and uses check_fermat to check whether they violate Fermat’s theorem."
   ]
  },
  {
   "cell_type": "code",
   "execution_count": 35,
   "metadata": {
    "collapsed": false
   },
   "outputs": [
    {
     "name": "stdout",
     "output_type": "stream",
     "text": [
      "Input a value for a = 3\n",
      "Input a value for b = 4\n",
      "Input a value for c = 5\n",
      "Input a value for n = 5\n",
      "No, that doesn't work\n"
     ]
    }
   ],
   "source": [
    "a = input('Input a value for a = ')\n",
    "b = input('Input a value for b = ')\n",
    "c = input('Input a value for c = ')\n",
    "n = input('Input a value for n = ')\n",
    "\n",
    "check_fermat(a, b, c, n)"
   ]
  },
  {
   "cell_type": "markdown",
   "metadata": {},
   "source": [
    "### Exercise 4  \n",
    "\n",
    "If you are given three sticks, you may or may not be able to arrange them in a triangle. For example, if one of the sticks is 12 inches long and the other two are one inch long, it is clear that you will not be able to get the short sticks to meet in the middle. For any three lengths, there is a simple test to see if it is possible to form a triangle:\n",
    "> If any of the three lengths is greater than the sum of the other two, then you cannot form a triangle. Otherwise, you can. (If the sum of two lengths equals the third, they form what is called a “degenerate” triangle.)\n",
    "\n",
    "(a) Write a function named `is_triangle` that takes three integers as arguments, and that prints either \"Yes\" or \"No,\" depending on whether you can or cannot form a triangle from sticks with the given lengths."
   ]
  },
  {
   "cell_type": "code",
   "execution_count": 38,
   "metadata": {
    "collapsed": false
   },
   "outputs": [],
   "source": [
    "def is_triangle(a, b, c):\n",
    "    if a + b > c:\n",
    "        print 'Yes'\n",
    "    elif a + c > b:\n",
    "        print 'Yes'\n",
    "    elif b + c > a:\n",
    "        print 'Yes'\n",
    "    else:\n",
    "        print 'No'"
   ]
  },
  {
   "cell_type": "markdown",
   "metadata": {},
   "source": [
    "(b) Write a function that prompts the user to input three stick lengths, converts them to integers, and uses is_triangle to check whether sticks with the given lengths can form a triangle."
   ]
  },
  {
   "cell_type": "code",
   "execution_count": 39,
   "metadata": {
    "collapsed": false
   },
   "outputs": [
    {
     "name": "stdout",
     "output_type": "stream",
     "text": [
      "Input a value for Side 1 = 3\n",
      "Input a value for Side 2 = 4\n",
      "Input a value for Side 3 = 5\n",
      "Yes\n"
     ]
    }
   ],
   "source": [
    "a = input('Input a value for Side 1 = ')\n",
    "b = input('Input a value for Side 2 = ')\n",
    "c = input('Input a value for Side 3 = ')\n",
    "\n",
    "is_triangle(a, b, c)"
   ]
  },
  {
   "cell_type": "markdown",
   "metadata": {},
   "source": [
    "## Notes for the Instructors\n",
    "\n",
    "Please use the space below to write comments to help us plan the next class session.  For instance, if you want to see us go over an example of a particular type of problem, you can indicate that here.\n",
    "\n",
    "Please remember that the best way to get quick feedback from the instructors as well as your peers, is to use Piazza.  However, consider using this channel if it doesn't make sense to post your note to Piazza."
   ]
  },
  {
   "cell_type": "markdown",
   "metadata": {},
   "source": []
  }
 ],
 "metadata": {
  "kernelspec": {
   "display_name": "Python 2",
   "language": "python",
   "name": "python2"
  },
  "language_info": {
   "codemirror_mode": {
    "name": "ipython",
    "version": 2
   },
   "file_extension": ".py",
   "mimetype": "text/x-python",
   "name": "python",
   "nbconvert_exporter": "python",
   "pygments_lexer": "ipython2",
   "version": "2.7.6"
  }
 },
 "nbformat": 4,
 "nbformat_minor": 0
}
